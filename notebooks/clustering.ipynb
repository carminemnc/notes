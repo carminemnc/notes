{
 "cells": [
  {
   "cell_type": "code",
   "execution_count": 1,
   "metadata": {},
   "outputs": [],
   "source": [
    "import pandas as pd\n",
    "from sklearn.compose import ColumnTransformer\n",
    "from sklearn.preprocessing import OneHotEncoder, StandardScaler\n",
    "from sklearn.cluster import KMeans\n",
    "from utils import *\n",
    "from scipy import stats\n",
    "\n",
    "from sklearn.impute import SimpleImputer\n",
    "from sklearn.preprocessing import StandardScaler, OneHotEncoder\n",
    "from sklearn.compose import ColumnTransformer\n",
    "from sklearn.pipeline import Pipeline\n",
    "from sklearn.feature_selection import VarianceThreshold\n",
    "from sklearn.decomposition import PCA\n",
    "\n",
    "R = Rita()"
   ]
  },
  {
   "cell_type": "code",
   "execution_count": 2,
   "metadata": {},
   "outputs": [],
   "source": [
    "df = pd.read_csv('../data/customer_segmentation.csv')"
   ]
  },
  {
   "cell_type": "code",
   "execution_count": 3,
   "metadata": {},
   "outputs": [],
   "source": [
    "from sklearn.preprocessing import FunctionTransformer\n",
    "\n",
    "# Identify numeric and categorical columns\n",
    "numeric_cols = df.select_dtypes(include=['int64', 'float64']).columns\n",
    "categorical_cols = df.select_dtypes(include=['object', 'category']).columns\n",
    "\n",
    "\n",
    "numeric_transformer = Pipeline(steps=[\n",
    "    ('imputer', SimpleImputer(strategy='median')),\n",
    "    ('scaler', StandardScaler())\n",
    "])\n",
    "\n",
    "categorical_transformer = Pipeline(steps=[\n",
    "    ('imputer', SimpleImputer(strategy='constant', fill_value='missing')),\n",
    "    ('onehot', OneHotEncoder(handle_unknown='ignore', sparse=False))\n",
    "])\n",
    "\n",
    "# Combine preprocessing steps\n",
    "preprocessor = ColumnTransformer(\n",
    "    transformers=[\n",
    "        ('num', numeric_transformer, numeric_cols),\n",
    "        ('cat', categorical_transformer, categorical_cols)\n",
    "    ])\n",
    "\n",
    "# Create main pipeline\n",
    "main_pipeline = Pipeline(steps=[\n",
    "    ('preprocessor', preprocessor),\n",
    "    # ('var_threshold', VarianceThreshold(threshold=0.1)),\n",
    "])\n",
    "\n",
    "# Fit and transform the data\n",
    "data_processed = main_pipeline.fit_transform(df)"
   ]
  },
  {
   "cell_type": "code",
   "execution_count": 4,
   "metadata": {},
   "outputs": [],
   "source": [
    "def kmeans_diagnostic(data,clusters_range,mode='basic',theme='dark'):\n",
    "    \n",
    "    # theme definition\n",
    "    if theme=='dark':\n",
    "        bg = '#242728'\n",
    "        lbl = '#eaeaea'\n",
    "    else:\n",
    "        bg = '#eaeaea'\n",
    "        lbl = '#242728'\n",
    "    \n",
    "    # lists for basic mode\n",
    "    sil = []\n",
    "    elb = []\n",
    "    \n",
    "    ''' Basic mode'''\n",
    "    if mode=='basic':\n",
    "        \n",
    "        fig, ax = plt.subplots(ncols=3,figsize=(15,5))\n",
    "        fig.tight_layout(pad=2)\n",
    "        fig.set_facecolor(bg)\n",
    "        \n",
    "        km = KMeans(init='k-means++',n_init=12,max_iter=100)\n",
    "        # distorsion: mean sum of squared distances to centers\n",
    "        elb = KElbowVisualizer(km,k=clusters_range,ax=ax[0],locate_elbow=True)\n",
    "        elb.fit(data)\n",
    "        ax[0].legend(loc='upper left')\n",
    "        ax[0].set_title('Distortion score Elbow for KMeans Clustering')\n",
    "        # silhouette: mean ratio of intra-cluster and nearest-cluster distance\n",
    "        sil = KElbowVisualizer(km,k=clusters_range,metric='silhouette',locate_elbow=True,ax=ax[1])\n",
    "        sil.fit(data)\n",
    "        ax[1].legend(loc='upper left')\n",
    "        ax[1].set_title('Silhouette score Elbow for KMeans Clustering')\n",
    "        # calinski_harabasz: ratio of within to between cluster dispersion\n",
    "        cal = KElbowVisualizer(km,k=clusters_range,metric='calinski_harabasz',locate_elbow=True,ax=ax[2])\n",
    "        cal.fit(data)\n",
    "        ax[2].legend(loc='upper left')\n",
    "        ax[2].set_title('Calinkski Harabasz score Elbow for KMeans Clustering')\n",
    "        \n",
    "        fig.show()\n",
    "        \n",
    "    ''' Advanced mode'''   \n",
    "    if mode=='advanced':\n",
    "        \n",
    "        # Calculate the number of rows needed\n",
    "        num_rows = (len(clusters_range) + 1) // 2  # This will round up to the nearest integer\n",
    "\n",
    "        # Create a figure with 4 columns and the calculated number of rows\n",
    "        fig, axes = plt.subplots(nrows=num_rows, ncols=4, figsize=(20, 5*num_rows))\n",
    "        fig.tight_layout(pad=3)\n",
    "        fig.set_facecolor(bg)\n",
    "\n",
    "        for idx, nclstr in enumerate(clusters_range):\n",
    "            row = idx // 2\n",
    "            col = (idx % 2) * 2  # This will alternate between 0 and 2\n",
    "            \n",
    "            # fitting kmeans\n",
    "            km = KMeans(n_clusters=nclstr, init='k-means++', n_init=12, max_iter=100)\n",
    "            \n",
    "            # Calculate silhouette score\n",
    "            silhouette_avg = round(silhouette_score(data, km.fit_predict(data)), 4)\n",
    "            \n",
    "            # silhouette coefficient plot\n",
    "            silhouette = SilhouetteVisualizer(km, colors='yellowbrick', ax=axes[row, col])\n",
    "            silhouette.fit(data)\n",
    "            \n",
    "            # intercluster distance plot\n",
    "            icd = InterclusterDistance(km, ax=axes[row, col+1], legend_loc='lower left')\n",
    "            icd.fit(data)\n",
    "\n",
    "            # Add a title in the middle of the cell\n",
    "            middle_ax = fig.add_subplot(num_rows, 2, idx+1, frame_on=False)\n",
    "            middle_ax.set_xticks([])\n",
    "            middle_ax.set_yticks([])\n",
    "            middle_ax.set_title(f'Clustering diagnostic on {nclstr} clusters\\nASS: {silhouette_avg}', \n",
    "                                fontsize=12, weight='bold', color=lbl, y=1.0)\n",
    "            \n",
    "        # Remove any unused subplots\n",
    "        for row in range(num_rows):\n",
    "            if row * 2 + 1 >= len(clusters_range):\n",
    "                fig.delaxes(axes[row, 2])\n",
    "                fig.delaxes(axes[row, 3])\n",
    "\n",
    "        plt.tight_layout()\n",
    "        plt.show()\n",
    "            \n",
    "\n",
    "    return"
   ]
  },
  {
   "cell_type": "code",
   "execution_count": 5,
   "metadata": {},
   "outputs": [],
   "source": [
    "# kmeans_diagnostic(data_processed,range(2,10),mode='basic',theme='white')"
   ]
  },
  {
   "cell_type": "code",
   "execution_count": 6,
   "metadata": {},
   "outputs": [],
   "source": [
    "# kmeans_diagnostic(data_processed,range(5,9),mode='advanced',theme='dark')"
   ]
  },
  {
   "cell_type": "code",
   "execution_count": 7,
   "metadata": {},
   "outputs": [
    {
     "name": "stderr",
     "output_type": "stream",
     "text": [
      "  File \"C:\\Users\\vcaminic\\AppData\\Roaming\\Python\\Python312\\site-packages\\joblib\\externals\\loky\\backend\\context.py\", line 282, in _count_physical_cores\n",
      "    raise ValueError(f\"found {cpu_count_physical} physical cores < 1\")\n"
     ]
    },
    {
     "data": {
      "text/html": [
       "<style>#sk-container-id-1 {color: black;}#sk-container-id-1 pre{padding: 0;}#sk-container-id-1 div.sk-toggleable {background-color: white;}#sk-container-id-1 label.sk-toggleable__label {cursor: pointer;display: block;width: 100%;margin-bottom: 0;padding: 0.3em;box-sizing: border-box;text-align: center;}#sk-container-id-1 label.sk-toggleable__label-arrow:before {content: \"▸\";float: left;margin-right: 0.25em;color: #696969;}#sk-container-id-1 label.sk-toggleable__label-arrow:hover:before {color: black;}#sk-container-id-1 div.sk-estimator:hover label.sk-toggleable__label-arrow:before {color: black;}#sk-container-id-1 div.sk-toggleable__content {max-height: 0;max-width: 0;overflow: hidden;text-align: left;background-color: #f0f8ff;}#sk-container-id-1 div.sk-toggleable__content pre {margin: 0.2em;color: black;border-radius: 0.25em;background-color: #f0f8ff;}#sk-container-id-1 input.sk-toggleable__control:checked~div.sk-toggleable__content {max-height: 200px;max-width: 100%;overflow: auto;}#sk-container-id-1 input.sk-toggleable__control:checked~label.sk-toggleable__label-arrow:before {content: \"▾\";}#sk-container-id-1 div.sk-estimator input.sk-toggleable__control:checked~label.sk-toggleable__label {background-color: #d4ebff;}#sk-container-id-1 div.sk-label input.sk-toggleable__control:checked~label.sk-toggleable__label {background-color: #d4ebff;}#sk-container-id-1 input.sk-hidden--visually {border: 0;clip: rect(1px 1px 1px 1px);clip: rect(1px, 1px, 1px, 1px);height: 1px;margin: -1px;overflow: hidden;padding: 0;position: absolute;width: 1px;}#sk-container-id-1 div.sk-estimator {font-family: monospace;background-color: #f0f8ff;border: 1px dotted black;border-radius: 0.25em;box-sizing: border-box;margin-bottom: 0.5em;}#sk-container-id-1 div.sk-estimator:hover {background-color: #d4ebff;}#sk-container-id-1 div.sk-parallel-item::after {content: \"\";width: 100%;border-bottom: 1px solid gray;flex-grow: 1;}#sk-container-id-1 div.sk-label:hover label.sk-toggleable__label {background-color: #d4ebff;}#sk-container-id-1 div.sk-serial::before {content: \"\";position: absolute;border-left: 1px solid gray;box-sizing: border-box;top: 0;bottom: 0;left: 50%;z-index: 0;}#sk-container-id-1 div.sk-serial {display: flex;flex-direction: column;align-items: center;background-color: white;padding-right: 0.2em;padding-left: 0.2em;position: relative;}#sk-container-id-1 div.sk-item {position: relative;z-index: 1;}#sk-container-id-1 div.sk-parallel {display: flex;align-items: stretch;justify-content: center;background-color: white;position: relative;}#sk-container-id-1 div.sk-item::before, #sk-container-id-1 div.sk-parallel-item::before {content: \"\";position: absolute;border-left: 1px solid gray;box-sizing: border-box;top: 0;bottom: 0;left: 50%;z-index: -1;}#sk-container-id-1 div.sk-parallel-item {display: flex;flex-direction: column;z-index: 1;position: relative;background-color: white;}#sk-container-id-1 div.sk-parallel-item:first-child::after {align-self: flex-end;width: 50%;}#sk-container-id-1 div.sk-parallel-item:last-child::after {align-self: flex-start;width: 50%;}#sk-container-id-1 div.sk-parallel-item:only-child::after {width: 0;}#sk-container-id-1 div.sk-dashed-wrapped {border: 1px dashed gray;margin: 0 0.4em 0.5em 0.4em;box-sizing: border-box;padding-bottom: 0.4em;background-color: white;}#sk-container-id-1 div.sk-label label {font-family: monospace;font-weight: bold;display: inline-block;line-height: 1.2em;}#sk-container-id-1 div.sk-label-container {text-align: center;}#sk-container-id-1 div.sk-container {/* jupyter's `normalize.less` sets `[hidden] { display: none; }` but bootstrap.min.css set `[hidden] { display: none !important; }` so we also need the `!important` here to be able to override the default hidden behavior on the sphinx rendered scikit-learn.org. See: https://github.com/scikit-learn/scikit-learn/issues/21755 */display: inline-block !important;position: relative;}#sk-container-id-1 div.sk-text-repr-fallback {display: none;}</style><div id=\"sk-container-id-1\" class=\"sk-top-container\"><div class=\"sk-text-repr-fallback\"><pre>SilhouetteVisualizer(ax=&lt;Axes: &gt;, colors=&#x27;yellowbrick&#x27;,\n",
       "                     estimator=KMeans(max_iter=100, n_clusters=6, n_init=12))</pre><b>In a Jupyter environment, please rerun this cell to show the HTML representation or trust the notebook. <br />On GitHub, the HTML representation is unable to render, please try loading this page with nbviewer.org.</b></div><div class=\"sk-container\" hidden><div class=\"sk-item sk-dashed-wrapped\"><div class=\"sk-label-container\"><div class=\"sk-label sk-toggleable\"><input class=\"sk-toggleable__control sk-hidden--visually\" id=\"sk-estimator-id-1\" type=\"checkbox\" ><label for=\"sk-estimator-id-1\" class=\"sk-toggleable__label sk-toggleable__label-arrow\">SilhouetteVisualizer</label><div class=\"sk-toggleable__content\"><pre>SilhouetteVisualizer(ax=&lt;Axes: &gt;, colors=&#x27;yellowbrick&#x27;,\n",
       "                     estimator=KMeans(max_iter=100, n_clusters=6, n_init=12))</pre></div></div></div><div class=\"sk-parallel\"><div class=\"sk-parallel-item\"><div class=\"sk-item\"><div class=\"sk-label-container\"><div class=\"sk-label sk-toggleable\"><input class=\"sk-toggleable__control sk-hidden--visually\" id=\"sk-estimator-id-2\" type=\"checkbox\" ><label for=\"sk-estimator-id-2\" class=\"sk-toggleable__label sk-toggleable__label-arrow\">estimator: KMeans</label><div class=\"sk-toggleable__content\"><pre>KMeans(max_iter=100, n_clusters=6, n_init=12)</pre></div></div></div><div class=\"sk-serial\"><div class=\"sk-item\"><div class=\"sk-estimator sk-toggleable\"><input class=\"sk-toggleable__control sk-hidden--visually\" id=\"sk-estimator-id-3\" type=\"checkbox\" ><label for=\"sk-estimator-id-3\" class=\"sk-toggleable__label sk-toggleable__label-arrow\">KMeans</label><div class=\"sk-toggleable__content\"><pre>KMeans(max_iter=100, n_clusters=6, n_init=12)</pre></div></div></div></div></div></div></div></div></div></div>"
      ],
      "text/plain": [
       "SilhouetteVisualizer(ax=<Axes: >, colors='yellowbrick',\n",
       "                     estimator=KMeans(max_iter=100, n_clusters=6, n_init=12))"
      ]
     },
     "execution_count": 7,
     "metadata": {},
     "output_type": "execute_result"
    },
    {
     "data": {
      "image/png": "[encoded data removed]",
      "text/plain": [
       "<Figure size 800x550 with 1 Axes>"
      ]
     },
     "metadata": {},
     "output_type": "display_data"
    }
   ],
   "source": [
    "km = KMeans(n_clusters=6, init='k-means++', n_init=12, max_iter=100)\n",
    "\n",
    "# Calculate silhouette score\n",
    "silhouette_avg = round(silhouette_score(data_processed, km.fit_predict(data_processed)), 4)\n",
    "\n",
    "# silhouette coefficient plot\n",
    "silhouette = SilhouetteVisualizer(km, colors='yellowbrick')\n",
    "silhouette.fit(data_processed)"
   ]
  },
  {
   "cell_type": "code",
   "execution_count": 8,
   "metadata": {},
   "outputs": [
    {
     "name": "stdout",
     "output_type": "stream",
     "text": [
      "cluster\n",
      "0    118\n",
      "1    516\n",
      "2    478\n",
      "3    155\n",
      "4    424\n",
      "5     30\n",
      "6    519\n",
      "dtype: int64\n"
     ]
    }
   ],
   "source": [
    "# Perform K-means clustering\n",
    "kmeans = KMeans(n_clusters=7, init='k-means++', max_iter=300, n_init=10, random_state=0)\n",
    "y_kmeans = kmeans.fit_predict(data_processed)\n",
    "\n",
    "# Add cluster labels to the original dataframe\n",
    "res = df.copy()\n",
    "res['cluster'] = y_kmeans\n",
    "\n",
    "# Examine the cluster assignments\n",
    "print(res.groupby('cluster').size())"
   ]
  },
  {
   "cell_type": "code",
   "execution_count": 10,
   "metadata": {},
   "outputs": [],
   "source": [
    "res.to_csv('cluster_segmentation.csv',index=False)"
   ]
  }
 ],
 "metadata": {
  "kernelspec": {
   "display_name": "Python 3",
   "language": "python",
   "name": "python3"
  },
  "language_info": {
   "codemirror_mode": {
    "name": "ipython",
    "version": 3
   },
   "file_extension": ".py",
   "mimetype": "text/x-python",
   "name": "python",
   "nbconvert_exporter": "python",
   "pygments_lexer": "ipython3",
   "version": "3.12.0"
  }
 },
 "nbformat": 4,
 "nbformat_minor": 2
}
